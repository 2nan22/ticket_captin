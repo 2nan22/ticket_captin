{
 "cells": [
  {
   "cell_type": "code",
   "execution_count": 7,
   "metadata": {
    "collapsed": true,
    "pycharm": {
     "name": "#%%\n"
    }
   },
   "outputs": [
    {
     "ename": "NoSuchElementException",
     "evalue": "Message: no such element: Unable to locate element: {\"method\":\"css selector\",\"selector\":\".MENyI\"}\n  (Session info: chrome=105.0.5195.125)\nStacktrace:\n0   chromedriver                        0x000000010994e788 chromedriver + 4515720\n1   chromedriver                        0x00000001098d29d3 chromedriver + 4008403\n2   chromedriver                        0x000000010956512a chromedriver + 413994\n3   chromedriver                        0x000000010959c873 chromedriver + 641139\n4   chromedriver                        0x000000010959ca61 chromedriver + 641633\n5   chromedriver                        0x00000001095cef64 chromedriver + 847716\n6   chromedriver                        0x00000001095b97fd chromedriver + 759805\n7   chromedriver                        0x00000001095ccbd9 chromedriver + 838617\n8   chromedriver                        0x00000001095b9603 chromedriver + 759299\n9   chromedriver                        0x000000010958f990 chromedriver + 588176\n10  chromedriver                        0x0000000109590a75 chromedriver + 592501\n11  chromedriver                        0x000000010991e6cd chromedriver + 4318925\n12  chromedriver                        0x0000000109922f35 chromedriver + 4337461\n13  chromedriver                        0x000000010992a1ff chromedriver + 4366847\n14  chromedriver                        0x0000000109923c5a chromedriver + 4340826\n15  chromedriver                        0x00000001098f9c2c chromedriver + 4168748\n16  chromedriver                        0x00000001099404f8 chromedriver + 4457720\n17  chromedriver                        0x0000000109940693 chromedriver + 4458131\n18  chromedriver                        0x0000000109955a3e chromedriver + 4545086\n19  libsystem_pthread.dylib             0x00007ff81584c4e1 _pthread_start + 125\n20  libsystem_pthread.dylib             0x00007ff815847f6b thread_start + 15\n",
     "output_type": "error",
     "traceback": [
      "\u001b[0;31m---------------------------------------------------------------------------\u001b[0m",
      "\u001b[0;31mNoSuchElementException\u001b[0m                    Traceback (most recent call last)",
      "\u001b[1;32m/Users/2nan22/Desktop/datacrush/ticketcaptin/test.ipynb 셀 1\u001b[0m in \u001b[0;36m<cell line: 23>\u001b[0;34m()\u001b[0m\n\u001b[1;32m    <a href='vscode-notebook-cell:/Users/2nan22/Desktop/datacrush/ticketcaptin/test.ipynb#W0sZmlsZQ%3D%3D?line=139'>140</a>\u001b[0m df[\u001b[39m'\u001b[39m\u001b[39m네이버 카테고리\u001b[39m\u001b[39m'\u001b[39m]\u001b[39m.\u001b[39mloc[i] \u001b[39m=\u001b[39m naver_category\n\u001b[1;32m    <a href='vscode-notebook-cell:/Users/2nan22/Desktop/datacrush/ticketcaptin/test.ipynb#W0sZmlsZQ%3D%3D?line=142'>143</a>\u001b[0m \u001b[39m# 그림 같이 메뉴판 mpoxR 메뉴하나이름가격 MN48z 메뉴명 MENyI 가격 gl2cc\u001b[39;00m\n\u001b[1;32m    <a href='vscode-notebook-cell:/Users/2nan22/Desktop/datacrush/ticketcaptin/test.ipynb#W0sZmlsZQ%3D%3D?line=143'>144</a>\u001b[0m \u001b[39m# 그냥 메뉴판 jnwQZ 메뉴하나이름가격 gHmZ_ 메뉴명 place_bluelink ihmWt 가격 awlpp\u001b[39;00m\n\u001b[0;32m--> <a href='vscode-notebook-cell:/Users/2nan22/Desktop/datacrush/ticketcaptin/test.ipynb#W0sZmlsZQ%3D%3D?line=144'>145</a>\u001b[0m test \u001b[39m=\u001b[39m driver\u001b[39m.\u001b[39;49mfind_element(By\u001b[39m.\u001b[39;49mCLASS_NAME, \u001b[39m'\u001b[39;49m\u001b[39mMENyI\u001b[39;49m\u001b[39m'\u001b[39;49m)\u001b[39m.\u001b[39mtext\n\u001b[1;32m    <a href='vscode-notebook-cell:/Users/2nan22/Desktop/datacrush/ticketcaptin/test.ipynb#W0sZmlsZQ%3D%3D?line=145'>146</a>\u001b[0m aa \u001b[39m=\u001b[39m driver\u001b[39m.\u001b[39mfind_element(By\u001b[39m.\u001b[39mCLASS_NAME, \u001b[39m'\u001b[39m\u001b[39mgl2cc\u001b[39m\u001b[39m'\u001b[39m)\u001b[39m.\u001b[39mtext\n\u001b[1;32m    <a href='vscode-notebook-cell:/Users/2nan22/Desktop/datacrush/ticketcaptin/test.ipynb#W0sZmlsZQ%3D%3D?line=147'>148</a>\u001b[0m \u001b[39mprint\u001b[39m(test)\n",
      "File \u001b[0;32m~/opt/anaconda3/lib/python3.9/site-packages/selenium/webdriver/remote/webdriver.py:855\u001b[0m, in \u001b[0;36mWebDriver.find_element\u001b[0;34m(self, by, value)\u001b[0m\n\u001b[1;32m    852\u001b[0m     by \u001b[39m=\u001b[39m By\u001b[39m.\u001b[39mCSS_SELECTOR\n\u001b[1;32m    853\u001b[0m     value \u001b[39m=\u001b[39m \u001b[39m'\u001b[39m\u001b[39m[name=\u001b[39m\u001b[39m\"\u001b[39m\u001b[39m%s\u001b[39;00m\u001b[39m\"\u001b[39m\u001b[39m]\u001b[39m\u001b[39m'\u001b[39m \u001b[39m%\u001b[39m value\n\u001b[0;32m--> 855\u001b[0m \u001b[39mreturn\u001b[39;00m \u001b[39mself\u001b[39;49m\u001b[39m.\u001b[39;49mexecute(Command\u001b[39m.\u001b[39;49mFIND_ELEMENT, {\n\u001b[1;32m    856\u001b[0m     \u001b[39m'\u001b[39;49m\u001b[39musing\u001b[39;49m\u001b[39m'\u001b[39;49m: by,\n\u001b[1;32m    857\u001b[0m     \u001b[39m'\u001b[39;49m\u001b[39mvalue\u001b[39;49m\u001b[39m'\u001b[39;49m: value})[\u001b[39m'\u001b[39m\u001b[39mvalue\u001b[39m\u001b[39m'\u001b[39m]\n",
      "File \u001b[0;32m~/opt/anaconda3/lib/python3.9/site-packages/selenium/webdriver/remote/webdriver.py:428\u001b[0m, in \u001b[0;36mWebDriver.execute\u001b[0;34m(self, driver_command, params)\u001b[0m\n\u001b[1;32m    426\u001b[0m response \u001b[39m=\u001b[39m \u001b[39mself\u001b[39m\u001b[39m.\u001b[39mcommand_executor\u001b[39m.\u001b[39mexecute(driver_command, params)\n\u001b[1;32m    427\u001b[0m \u001b[39mif\u001b[39;00m response:\n\u001b[0;32m--> 428\u001b[0m     \u001b[39mself\u001b[39;49m\u001b[39m.\u001b[39;49merror_handler\u001b[39m.\u001b[39;49mcheck_response(response)\n\u001b[1;32m    429\u001b[0m     response[\u001b[39m'\u001b[39m\u001b[39mvalue\u001b[39m\u001b[39m'\u001b[39m] \u001b[39m=\u001b[39m \u001b[39mself\u001b[39m\u001b[39m.\u001b[39m_unwrap_value(\n\u001b[1;32m    430\u001b[0m         response\u001b[39m.\u001b[39mget(\u001b[39m'\u001b[39m\u001b[39mvalue\u001b[39m\u001b[39m'\u001b[39m, \u001b[39mNone\u001b[39;00m))\n\u001b[1;32m    431\u001b[0m     \u001b[39mreturn\u001b[39;00m response\n",
      "File \u001b[0;32m~/opt/anaconda3/lib/python3.9/site-packages/selenium/webdriver/remote/errorhandler.py:243\u001b[0m, in \u001b[0;36mErrorHandler.check_response\u001b[0;34m(self, response)\u001b[0m\n\u001b[1;32m    241\u001b[0m         alert_text \u001b[39m=\u001b[39m value[\u001b[39m'\u001b[39m\u001b[39malert\u001b[39m\u001b[39m'\u001b[39m]\u001b[39m.\u001b[39mget(\u001b[39m'\u001b[39m\u001b[39mtext\u001b[39m\u001b[39m'\u001b[39m)\n\u001b[1;32m    242\u001b[0m     \u001b[39mraise\u001b[39;00m exception_class(message, screen, stacktrace, alert_text)  \u001b[39m# type: ignore[call-arg]  # mypy is not smart enough here\u001b[39;00m\n\u001b[0;32m--> 243\u001b[0m \u001b[39mraise\u001b[39;00m exception_class(message, screen, stacktrace)\n",
      "\u001b[0;31mNoSuchElementException\u001b[0m: Message: no such element: Unable to locate element: {\"method\":\"css selector\",\"selector\":\".MENyI\"}\n  (Session info: chrome=105.0.5195.125)\nStacktrace:\n0   chromedriver                        0x000000010994e788 chromedriver + 4515720\n1   chromedriver                        0x00000001098d29d3 chromedriver + 4008403\n2   chromedriver                        0x000000010956512a chromedriver + 413994\n3   chromedriver                        0x000000010959c873 chromedriver + 641139\n4   chromedriver                        0x000000010959ca61 chromedriver + 641633\n5   chromedriver                        0x00000001095cef64 chromedriver + 847716\n6   chromedriver                        0x00000001095b97fd chromedriver + 759805\n7   chromedriver                        0x00000001095ccbd9 chromedriver + 838617\n8   chromedriver                        0x00000001095b9603 chromedriver + 759299\n9   chromedriver                        0x000000010958f990 chromedriver + 588176\n10  chromedriver                        0x0000000109590a75 chromedriver + 592501\n11  chromedriver                        0x000000010991e6cd chromedriver + 4318925\n12  chromedriver                        0x0000000109922f35 chromedriver + 4337461\n13  chromedriver                        0x000000010992a1ff chromedriver + 4366847\n14  chromedriver                        0x0000000109923c5a chromedriver + 4340826\n15  chromedriver                        0x00000001098f9c2c chromedriver + 4168748\n16  chromedriver                        0x00000001099404f8 chromedriver + 4457720\n17  chromedriver                        0x0000000109940693 chromedriver + 4458131\n18  chromedriver                        0x0000000109955a3e chromedriver + 4545086\n19  libsystem_pthread.dylib             0x00007ff81584c4e1 _pthread_start + 125\n20  libsystem_pthread.dylib             0x00007ff815847f6b thread_start + 15\n"
     ]
    }
   ],
   "source": [
    "from selenium import webdriver\n",
    "from selenium.webdriver.common.by import By\n",
    "from selenium.webdriver.common.keys import Keys\n",
    "from selenium.webdriver.support.ui import WebDriverWait\n",
    "from selenium.webdriver.support import expected_conditions as EC #selenium에서 사용할 모듈 import\n",
    "from selenium.common.exceptions import NoSuchElementException \n",
    "\n",
    "import time\n",
    "import requests\n",
    "from bs4 import BeautifulSoup\n",
    "import re\n",
    "import pandas as pd\n",
    "import warnings\n",
    "warnings.filterwarnings('ignore')\n",
    "\n",
    "\n",
    "def element_xpath(xpath):\n",
    "    try:\n",
    "        element = driver.find_element(By.XPATH, xpath).text\n",
    "        return element\n",
    "    except:\n",
    "        element = ''\n",
    "        return element\n",
    "\n",
    "\n",
    "driver = webdriver.Chrome(\"/Users/2nan22/Desktop/datacrush/ticketcaptin/chromedriver\") #selenium 사용에 필요한 chromedriver.exe 파일 경로 지정\n",
    "\n",
    "df = pd.read_excel('/Users/2nan22/Desktop/datacrush/ticketcaptin/store_list.xlsx')\n",
    "\n",
    "### TODO : 1) 네이버 지도 입력 시, 업체 리스트가 뜰 때도 있고 바로 업체 페이지로 갈 때를 구분하는 코드 구현\n",
    "###        2) 업체 검색 시, 검색 결과가 없을 경우 pass\n",
    "\n",
    "for i in range(len(df)):\n",
    "\n",
    "    driver.get(\"https://map.naver.com/v5/\") #네이버 신 지도\n",
    "\n",
    "    try:\n",
    "        element = WebDriverWait(driver, 10).until(\n",
    "            EC.presence_of_element_located((By.CLASS_NAME, \"input_search\"))\n",
    "        ) #입력창이 뜰 때까지 대기\n",
    "    except:\n",
    "        pass\n",
    "    finally:\n",
    "        pass\n",
    "\n",
    "    store_name = df['상호명'][i]\n",
    "    \n",
    "    search_box = driver.find_element(By.CLASS_NAME, \"input_search\")\n",
    "\n",
    "    time.sleep(2)\n",
    "\n",
    "    search_box.send_keys(store_name)\n",
    "    search_box.send_keys(Keys.ENTER) #검색창에 상호명 입력\n",
    "\n",
    "    time.sleep(7) #화면 표시 기다리기\n",
    "\n",
    "    #TODO : 가게 세부 페이지인지, 상호 리스트가 뜨는지 document의 특정 값으로 판단할 수 있는지 확인\n",
    "    if 'place' not in driver.current_url:\n",
    "        \n",
    "        search_frame = driver.find_element(By.CSS_SELECTOR, \"iframe#searchIframe\")\n",
    "        driver.switch_to.frame(search_frame)\n",
    "\n",
    "        try:\n",
    "            element = WebDriverWait(driver, 10).until(EC.element_to_be_clickable((By.XPATH, '/html/body/div[3]/div/div/div[1]/ul/li[1]/div[1]/a/div/div/span[1]')))\n",
    "            driver.find_element(By.XPATH, '/html/body/div[3]/div/div/div[1]/ul/li[1]/div[1]/a/div/div/span[1]').click()\n",
    "        except:\n",
    "            driver.find_element(By.XPATH, '/html/body/div[3]/div/div[2]/div[1]/ul/li[1]/div[2]/a[1]/div/div/span[1]').click()\n",
    "            pass\n",
    "        finally:\n",
    "            pass\n",
    "        \n",
    "        time.sleep(5)\n",
    "\n",
    "        driver.switch_to.default_content()\n",
    "\n",
    "        time.sleep(5)\n",
    "\n",
    "        try:\n",
    "            entry_frame = driver.find_element(By.CSS_SELECTOR, \"iframe#entryIframe\")\n",
    "            driver.switch_to.frame(entry_frame)\n",
    "        except:\n",
    "            pass\n",
    "    else:\n",
    "        entry_frame = driver.find_element(By.CSS_SELECTOR, \"iframe#entryIframe\")\n",
    "        driver.switch_to.frame(entry_frame)\n",
    "\n",
    "\n",
    "    time.sleep(5)\n",
    "\n",
    "    # 변수 초기화\n",
    "    rate = ''\n",
    "    address = ''\n",
    "    menu = ''\n",
    "    link = ''\n",
    "    visitor_review_cnt = ''\n",
    "    blog_review_cnt = ''\n",
    "    naver_name = ''\n",
    "    naver_category = ''\n",
    "        \n",
    "\n",
    "    # 평점\n",
    "    rate = element_xpath(\"/html/body/div[3]/div/div/div/div[2]/div[1]/div[2]/span[1]/em\")\n",
    "    # 주소\n",
    "    try:\n",
    "        address = driver.find_element(By.XPATH, \"/html/body/div[3]/div/div/div/div[6]/div/div[2]/div/ul/li[1]/div/a/span[1]\").text\n",
    "    except NoSuchElementException:\n",
    "        address = driver.find_element(By.XPATH, \"/html/body/div[3]/div/div/div/div[6]/div/div[1]/div/ul/li[1]/div/a/span[1]\").text\n",
    "    except:\n",
    "        address = ''\n",
    "    # 메뉴\n",
    "    try:\n",
    "        menu = driver.find_element(By.XPATH, \"/html/body/div[3]/div/div/div/div[6]/div/div[3]/div[1]/ul\").text\n",
    "    except NoSuchElementException:\n",
    "        menu = driver.find_element(By.XPATH, \"/html/body/div[3]/div/div/div/div[6]/div/div[2]/div/ul\").text\n",
    "    except:\n",
    "        menu = ''\n",
    "    # 방문자 리뷰 수\n",
    "    visitor_review_cnt = element_xpath(\"/html/body/div[3]/div/div/div/div[2]/div[1]/div[2]/span[2]/a/em\")\n",
    "    # 블로그 리뷰 수\n",
    "    blog_review_cnt = element_xpath(\"/html/body/div[3]/div/div/div/div[2]/div[1]/div[2]/span[3]/a/em\")\n",
    "    # 네이버 상호명\n",
    "    naver_name = element_xpath(\"/html/body/div[3]/div/div/div/div[2]/div[1]/div[1]/span[1]\")\n",
    "    # 네이버 카테고리\n",
    "    naver_category = element_xpath(\"/html/body/div[3]/div/div/div/div[2]/div[1]/div[1]/span[2]\")\n",
    "    # 링크\n",
    "    link = driver.current_url\n",
    "\n",
    "\n",
    "    df['네이버 평점'].loc[i] = rate\n",
    "    df['위치'].loc[i] = address\n",
    "    df['링크'].loc[i] = link\n",
    "    df['방문자 리뷰 수'].loc[i] = visitor_review_cnt\n",
    "    df['블로그 리뷰 수'].loc[i] = blog_review_cnt\n",
    "    df['네이버 상호명'].loc[i] = naver_name\n",
    "    df['네이버 카테고리'].loc[i] = naver_category\n",
    "\n",
    "    \n",
    "    # 그림 같이 메뉴판 mpoxR 메뉴하나이름가격 MN48z 메뉴명 MENyI 가격 gl2cc\n",
    "    # 그냥 메뉴판 jnwQZ 메뉴하나이름가격 gHmZ_ 메뉴명 place_bluelink ihmWt 가격 awlpp\n",
    "    test = driver.find_element(By.CLASS_NAME, 'MENyI').text\n",
    "    aa = driver.find_element(By.CLASS_NAME, 'gl2cc').text\n",
    "\n",
    "    print(test)\n",
    "    print(aa)\n",
    "\n",
    "    if menu is not '':\n",
    "        menu_list = menu.split('\\n')\n",
    "        for menu in menu_list:\n",
    "            if menu == '대표':\n",
    "                menu_list.remove(menu)\n",
    "            elif menu == '사진':\n",
    "                menu_list.remove(menu)\n",
    "\n",
    "        menu_final = []\n",
    "        menu_price = {}\n",
    "\n",
    "        for ml in range(int(len(menu_list) / 2)):\n",
    "            menu_price[f'메뉴_{ml}'] = {'음식명' : menu_list[2*ml], '가격' : menu_list[2*ml+1]}\n",
    "        menu_final.append(menu_price)\n",
    "        df['대표메뉴'].loc[i] = menu_final\n",
    "\n",
    "    else:\n",
    "        menu_final = menu\n",
    "        df['대표메뉴'].loc[i] = menu_final\n",
    "\n",
    "    print(store_name)\n",
    "\n",
    "    time.sleep(5)\n",
    "\n",
    "df.head()\n",
    "df.to_excel('./store_list_ver_0.2.xlsx', index=False, encoding='utf-8')\n",
    "\n",
    "\n"
   ]
  },
  {
   "cell_type": "code",
   "execution_count": 63,
   "metadata": {},
   "outputs": [
    {
     "name": "stdout",
     "output_type": "stream",
     "text": [
      "Collecting haversine\n",
      "  Downloading haversine-2.7.0-py2.py3-none-any.whl (6.9 kB)\n",
      "Installing collected packages: haversine\n",
      "Successfully installed haversine-2.7.0\n"
     ]
    }
   ],
   "source": [
    "!pip install haversine"
   ]
  },
  {
   "cell_type": "code",
   "execution_count": 30,
   "metadata": {},
   "outputs": [],
   "source": [
    "import pandas as pd\n",
    "from geopy.geocoders import Nominatim\n",
    "from haversine import haversine\n",
    "\n",
    "excel_path = './store_list_ver_0.2.xlsx'\n",
    "latlng_company = (37.5577182, 126.9253904)\n",
    "\n",
    "def geocoding(address):\n",
    "    \"\"\"\n",
    "    주소 기반 위도 경도 얻기\n",
    "    \"\"\"\n",
    "    geolocoder = Nominatim(user_agent = 'South Korea', timeout=None)\n",
    "    try:\n",
    "        geo = geolocoder.geocode(address)\n",
    "    except:\n",
    "        geo = geolocoder.geocode(' '.join(address.split(' ')[:4]))\n",
    "    crd = {\"lat\": str(geo.latitude), \"lng\": str(geo.longitude)}\n",
    "\n",
    "    return crd\n",
    "\n",
    "def get_lat_lng_distance(excel_path):\n",
    "    \"\"\"\n",
    "    도로명 주소 기반 위도 경도 산출 후\n",
    "    회사와의 거리 산출\n",
    "    \"\"\"\n",
    "    df = pd.read_excel(excel_path)\n",
    "    df['위도_경도'] = df['위치'].apply(lambda x: geocoding(x))\n",
    "    df['회사와의 거리'] = df['위도_경도'].apply(lambda x: round(haversine((float(x['lat']),float(x['lng'])), latlng_company, unit='m'), 2))\n",
    "\n",
    "    return df\n",
    "\n",
    "df = get_lat_lng_distance(excel_path)\n",
    "df.to_excel('./store_list_ver_0.3.xlsx', index=False, encoding='utf-8')"
   ]
  },
  {
   "cell_type": "code",
   "execution_count": 34,
   "metadata": {},
   "outputs": [
    {
     "data": {
      "text/plain": [
       "70.65"
      ]
     },
     "execution_count": 34,
     "metadata": {},
     "output_type": "execute_result"
    }
   ],
   "source": [
    "round(haversine((37.5581051, 126.9260261), latlng_company, unit='m'), 2)"
   ]
  },
  {
   "cell_type": "code",
   "execution_count": 36,
   "metadata": {},
   "outputs": [
    {
     "data": {
      "text/plain": [
       "''"
      ]
     },
     "execution_count": 36,
     "metadata": {},
     "output_type": "execute_result"
    }
   ],
   "source": [
    "def obj():\n",
    "    rate = ''\n",
    "    address = ''\n",
    "    menu = ''\n",
    "    link = ''\n",
    "    visitor_review_cnt = ''\n",
    "    blog_review_cnt = ''\n",
    "    naver_name = ''\n",
    "    naver_category = ''\n",
    "\n",
    "    return rate, address, menu, link, visitor_review_cnt, blog_review_cnt, naver_name, naver_category\n",
    "\n",
    "\n",
    "rate = '2'\n",
    "rate, address, menu, link, visitor_review_cnt, blog_review_cnt, naver_name, naver_category = obj()\n",
    "rate"
   ]
  },
  {
   "cell_type": "code",
   "execution_count": null,
   "metadata": {},
   "outputs": [],
   "source": []
  }
 ],
 "metadata": {
  "kernelspec": {
   "display_name": "Python 3.9.12 ('base')",
   "language": "python",
   "name": "python3"
  },
  "language_info": {
   "codemirror_mode": {
    "name": "ipython",
    "version": 3
   },
   "file_extension": ".py",
   "mimetype": "text/x-python",
   "name": "python",
   "nbconvert_exporter": "python",
   "pygments_lexer": "ipython3",
   "version": "3.9.12"
  },
  "vscode": {
   "interpreter": {
    "hash": "634766305c730c8ae9b70e51488fdcca0bb16e9811988ce125d7a14fb377e324"
   }
  }
 },
 "nbformat": 4,
 "nbformat_minor": 0
}
